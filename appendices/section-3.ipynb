{
 "cells": [
  {
   "cell_type": "markdown",
   "metadata": {},
   "source": [
    "# Appendix B - Graphs with multiple connected components"
   ]
  },
  {
   "cell_type": "code",
   "execution_count": null,
   "metadata": {},
   "outputs": [],
   "source": [
    "import networkx as nx\n",
    "import numpy as np\n",
    "import matplotlib.pyplot as plt"
   ]
  },
  {
   "cell_type": "markdown",
   "metadata": {},
   "source": [
    "## Generate an example figure"
   ]
  },
  {
   "cell_type": "code",
   "execution_count": null,
   "metadata": {},
   "outputs": [],
   "source": [
    "cc1 = nx.connected_watts_strogatz_graph(10, 3, 0.8)\n",
    "cc2 = nx.connected_watts_strogatz_graph(10, 3, 0.8)\n",
    "cc3 = nx.connected_watts_strogatz_graph(10, 3, 0.8)\n",
    "graph_demo = nx.disjoint_union(cc1, cc2)\n",
    "graph_demo = nx.disjoint_union(graph_demo, cc3)\n",
    "\n",
    "nx.draw_spring(graph_demo, node_color='g')\n",
    "plt.savefig('../figures/multiple-component.eps')\n",
    "plt.show()"
   ]
  },
  {
   "cell_type": "markdown",
   "metadata": {},
   "source": [
    "## Plot eigenvalues"
   ]
  },
  {
   "cell_type": "code",
   "execution_count": null,
   "metadata": {},
   "outputs": [],
   "source": [
    "n_graphs = 100\n",
    "n_nodes = 64\n",
    "\n",
    "for n_con_com in [2, 4, 8]: # Plot the boxplot for each type of graph\n",
    "    eigenvalues_graphs = []\n",
    "    \n",
    "    for _ in range(n_graphs): # Compute the eigenvalues for each graph\n",
    "        # Build the graph\n",
    "        graph = nx.Graph()\n",
    "        for _ in range(n_con_com): # Create the connected components\n",
    "            cc = nx.connected_watts_strogatz_graph(n_nodes//n_con_com, 2, 0.2)\n",
    "            graph = nx.disjoint_union(graph, cc)\n",
    "            \n",
    "        eigenvalues = nx.laplacian_spectrum(graph)\n",
    "        eigenvalues_graphs.append(eigenvalues)\n",
    "            \n",
    "    eigenvalues_graphs = np.array(eigenvalues_graphs)\n",
    "    \n",
    "    # Assert validity of the assumption\n",
    "    results = []\n",
    "    for idx in range(n_con_com):\n",
    "        eigenvalue = eigenvalues_graphs[:, idx]\n",
    "        results.append(np.allclose(eigenvalue, np.zeros_like(eigenvalue)))\n",
    "    print(f'Are the first {n_con_com} eigenvalues always zero?', np.all(results))\n",
    "    \n",
    "    results = []\n",
    "    for idx in range(n_con_com, eigenvalues_graphs.shape[1]):\n",
    "        eigenvalue = eigenvalues_graphs[:, idx]\n",
    "        results.append(np.allclose(eigenvalue, np.zeros_like(eigenvalue)))\n",
    "    print('Are the other eigenvalues always nonzero?', not np.any(results))\n",
    "\n",
    "    # Boxplot\n",
    "    plt.figure(n_con_com)\n",
    "    plt.boxplot(eigenvalues_graphs[:,0:10], showfliers=False)\n",
    "    plt.xticks(np.arange(1, 10+1))\n",
    "    plt.xlabel('Eigenvalues')\n",
    "    plt.ylabel('Intensity')\n",
    "    plt.savefig(f'../figures/{n_con_com}-components.eps')\n",
    "    plt.show()"
   ]
  },
  {
   "cell_type": "markdown",
   "metadata": {},
   "source": [
    "## Plot eigenvectors with the relative eigenvalue equals to zero"
   ]
  },
  {
   "cell_type": "code",
   "execution_count": null,
   "metadata": {},
   "outputs": [],
   "source": [
    "# Generate adjacency matrix\n",
    "n_nodes = 10\n",
    "W = np.zeros((n_nodes, n_nodes))\n",
    "W[0:3, 0:3] = 1\n",
    "W[3:8, 3:8] = 1\n",
    "W[8:, 8:] = 1\n",
    "\n",
    "# Compute the laplacian\n",
    "D = np.diag(np.sum(W, axis=0))\n",
    "laplacian = D - W\n",
    "\n",
    "# Compute eigenvalues and eigenvectors\n",
    "evals, evects = np.linalg.eigh(laplacian)\n",
    "\n",
    "W"
   ]
  },
  {
   "cell_type": "code",
   "execution_count": null,
   "metadata": {},
   "outputs": [],
   "source": [
    "# Plot eigenvalues\n",
    "plt.bar(np.arange(n_nodes), evals)\n",
    "plt.xticks(np.arange(0, n_nodes), labels=np.arange(1, n_nodes+1))\n",
    "plt.xlabel('Eigenvalues')\n",
    "plt.ylabel('Intensity')\n",
    "plt.show()"
   ]
  },
  {
   "cell_type": "code",
   "execution_count": null,
   "metadata": {},
   "outputs": [],
   "source": [
    "# Plot eigenvectors\n",
    "for idx in range(3):\n",
    "    plt.figure(idx)\n",
    "    plt.bar(np.arange(n_nodes), evects[:,idx])\n",
    "    plt.xticks(np.arange(0, n_nodes), labels=np.arange(1, n_nodes+1))\n",
    "    plt.xlabel('Nodes')\n",
    "    plt.ylabel('Intensity')\n",
    "    plt.title(f'Eigenvector {idx+1}')\n",
    "    plt.savefig(f'../figures/{idx}-eigenvectors.eps')\n",
    "    plt.show()"
   ]
  }
 ],
 "metadata": {
  "kernelspec": {
   "display_name": "Python 3",
   "language": "python",
   "name": "python3"
  },
  "language_info": {
   "codemirror_mode": {
    "name": "ipython",
    "version": 3
   },
   "file_extension": ".py",
   "mimetype": "text/x-python",
   "name": "python",
   "nbconvert_exporter": "python",
   "pygments_lexer": "ipython3",
   "version": "3.7.6"
  }
 },
 "nbformat": 4,
 "nbformat_minor": 4
}

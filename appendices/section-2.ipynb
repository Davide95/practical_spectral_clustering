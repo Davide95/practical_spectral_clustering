{
 "cells": [
  {
   "cell_type": "markdown",
   "metadata": {},
   "source": [
    "# Appendix A - Graphs with 1 connected component"
   ]
  },
  {
   "cell_type": "code",
   "execution_count": null,
   "metadata": {},
   "outputs": [],
   "source": [
    "import networkx as nx\n",
    "import numpy as np\n",
    "import matplotlib.pyplot as plt"
   ]
  },
  {
   "cell_type": "markdown",
   "metadata": {},
   "source": [
    "## Generate an example figure"
   ]
  },
  {
   "cell_type": "code",
   "execution_count": null,
   "metadata": {},
   "outputs": [],
   "source": [
    "graph = nx.connected_watts_strogatz_graph(20, 3, 0.5)\n",
    "nx.draw(graph)\n",
    "plt.savefig('../figures/one-component.eps')\n",
    "plt.show()"
   ]
  },
  {
   "cell_type": "markdown",
   "metadata": {},
   "source": [
    "## Plot eigenvalues"
   ]
  },
  {
   "cell_type": "code",
   "execution_count": null,
   "metadata": {},
   "outputs": [],
   "source": [
    "n_graphs = 100\n",
    "n_nodes = 20\n",
    "\n",
    "eigenvalues_graphs = []\n",
    "for _ in range(n_graphs): # Compute the eigenvalues for each graph\n",
    "    graph = nx.connected_watts_strogatz_graph(n_nodes, 3, 0.5)\n",
    "    eigenvalues = nx.laplacian_spectrum(graph)\n",
    "    eigenvalues_graphs.append(eigenvalues)\n",
    "eigenvalues_graphs = np.array(eigenvalues_graphs)\n",
    "    \n",
    "plt.boxplot(eigenvalues_graphs, showfliers=False)\n",
    "plt.xticks(np.arange(1, n_nodes+1))\n",
    "plt.xlabel('Eigenvalues')\n",
    "plt.ylabel('Intensity')\n",
    "plt.savefig('../figures/eigen-one-component.eps')\n",
    "plt.show()"
   ]
  },
  {
   "cell_type": "markdown",
   "metadata": {},
   "source": [
    "## Empirically demonstrate the proof presented in the pdf"
   ]
  },
  {
   "cell_type": "code",
   "execution_count": null,
   "metadata": {},
   "outputs": [],
   "source": [
    "first_eigenvalue = eigenvalues_graphs[:, 0]\n",
    "print('Is the first eigenvalue always zero?', np.allclose(first_eigenvalue, np.zeros_like(first_eigenvalue)))\n",
    "\n",
    "results = []\n",
    "for idx in range(1, eigenvalues_graphs.shape[1]):\n",
    "    eigenvalue = eigenvalues_graphs[:, idx]\n",
    "    results.append(np.allclose(eigenvalue, np.zeros_like(eigenvalue)))\n",
    "print('Are the other eigenvalues always nonzero?', not np.any(results))"
   ]
  }
 ],
 "metadata": {
  "kernelspec": {
   "display_name": "Python 3",
   "language": "python",
   "name": "python3"
  },
  "language_info": {
   "codemirror_mode": {
    "name": "ipython",
    "version": 3
   },
   "file_extension": ".py",
   "mimetype": "text/x-python",
   "name": "python",
   "nbconvert_exporter": "python",
   "pygments_lexer": "ipython3",
   "version": "3.7.6"
  }
 },
 "nbformat": 4,
 "nbformat_minor": 4
}

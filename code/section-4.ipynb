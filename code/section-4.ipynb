{
 "cells": [
  {
   "cell_type": "markdown",
   "metadata": {},
   "source": [
    "# Appendix C - Considerations about noise"
   ]
  },
  {
   "cell_type": "code",
   "execution_count": null,
   "metadata": {},
   "outputs": [],
   "source": [
    "import networkx as nx\n",
    "import numpy as np\n",
    "import matplotlib.pyplot as plt"
   ]
  },
  {
   "cell_type": "markdown",
   "metadata": {},
   "source": [
    "## Plot eigenvalues with increasing noise"
   ]
  },
  {
   "cell_type": "code",
   "execution_count": null,
   "metadata": {},
   "outputs": [],
   "source": [
    "# Generate adjacency matrix\n",
    "n_nodes = 100\n",
    "W = np.zeros((n_nodes, n_nodes))\n",
    "W[0:30, 0:30] = 1\n",
    "W[30:80, 30:80] = 1\n",
    "W[80:, 80:] = 1"
   ]
  },
  {
   "cell_type": "code",
   "execution_count": null,
   "metadata": {},
   "outputs": [],
   "source": [
    "eval1 = []\n",
    "eval2 = []\n",
    "eval3 = []\n",
    "eval4 = []\n",
    "\n",
    "# Keep adding noise\n",
    "while(np.any(W == 0)):\n",
    "    # Compute the laplacian\n",
    "    D = np.diag(np.sum(W, axis=0))\n",
    "    laplacian = D - W\n",
    "\n",
    "    # Compute eigenvalues and eigenvectors\n",
    "    evals, evects = np.linalg.eigh(laplacian)\n",
    "    eval1.append(evals[0])\n",
    "    eval2.append(evals[1])\n",
    "    eval3.append(evals[2])\n",
    "    eval4.append(evals[3])\n",
    "    \n",
    "    # Add randomly one edge\n",
    "    idxs_y, idxs_x = np.nonzero(W == 0)\n",
    "    idx = np.random.randint(len(idxs_y))\n",
    "    \n",
    "    # Add edge in the picked position\n",
    "    W[idxs_y[idx], idxs_x[idx]] = 1\n",
    "    W[idxs_x[idx], idxs_y[idx]] = 1"
   ]
  },
  {
   "cell_type": "code",
   "execution_count": null,
   "metadata": {},
   "outputs": [],
   "source": [
    "plt.plot(eval1, label='Eigenvalue 1')\n",
    "plt.plot(eval2, label='Eigenvalue 2')\n",
    "plt.plot(eval3, label='Eigenvalue 3')\n",
    "plt.plot(eval4, label='Eigenvalue 4')\n",
    "plt.xlabel('Edges added')\n",
    "plt.ylabel('Intensity')\n",
    "plt.legend()\n",
    "plt.savefig(f'../figures/adding-noise.eps')\n",
    "plt.show()"
   ]
  }
 ],
 "metadata": {
  "kernelspec": {
   "display_name": "Python 3",
   "language": "python",
   "name": "python3"
  },
  "language_info": {
   "codemirror_mode": {
    "name": "ipython",
    "version": 3
   },
   "file_extension": ".py",
   "mimetype": "text/x-python",
   "name": "python",
   "nbconvert_exporter": "python",
   "pygments_lexer": "ipython3",
   "version": "3.7.6"
  }
 },
 "nbformat": 4,
 "nbformat_minor": 4
}

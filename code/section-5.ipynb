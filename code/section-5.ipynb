{
 "cells": [
  {
   "cell_type": "markdown",
   "metadata": {},
   "source": [
    "# Appendix D - Spectral clustering when data is not a graph"
   ]
  },
  {
   "cell_type": "code",
   "execution_count": null,
   "metadata": {},
   "outputs": [],
   "source": [
    "import networkx as nx\n",
    "import numpy as np\n",
    "import matplotlib.pyplot as plt\n",
    "\n",
    "from sklearn.datasets import make_circles\n",
    "from sklearn.cluster import KMeans\n",
    "from sklearn.neighbors import DistanceMetric"
   ]
  },
  {
   "cell_type": "markdown",
   "metadata": {},
   "source": [
    "## Create data"
   ]
  },
  {
   "cell_type": "code",
   "execution_count": null,
   "metadata": {},
   "outputs": [],
   "source": [
    "n_nodes = 150\n",
    "data, labels = make_circles(n_samples=n_nodes, factor=0.5, noise=0.05)\n",
    "cluster1 = data[labels == 0]\n",
    "cluster2 = data[labels == 1]\n",
    "\n",
    "plt.scatter(cluster1[:,0], cluster1[:,1])\n",
    "plt.scatter(cluster2[:,0], cluster2[:,1])\n",
    "plt.savefig(f'../figures/ground-truth.eps')\n",
    "plt.show()"
   ]
  },
  {
   "cell_type": "markdown",
   "metadata": {},
   "source": [
    "## K-means clustering"
   ]
  },
  {
   "cell_type": "code",
   "execution_count": null,
   "metadata": {},
   "outputs": [],
   "source": [
    "kmeans = KMeans(n_clusters=2)\n",
    "labels = kmeans.fit(data).labels_"
   ]
  },
  {
   "cell_type": "code",
   "execution_count": null,
   "metadata": {},
   "outputs": [],
   "source": [
    "cluster1 = data[labels == 0]\n",
    "cluster2 = data[labels == 1]\n",
    "\n",
    "plt.scatter(cluster1[:,0], cluster1[:,1])\n",
    "plt.scatter(cluster2[:,0], cluster2[:,1])\n",
    "plt.savefig(f'../figures/kmeans.eps')\n",
    "plt.show()"
   ]
  },
  {
   "cell_type": "markdown",
   "metadata": {},
   "source": [
    "## Spectral clustering"
   ]
  },
  {
   "cell_type": "code",
   "execution_count": null,
   "metadata": {},
   "outputs": [],
   "source": [
    "# Generate adjacency matrix\n",
    "dist = DistanceMetric.get_metric('euclidean')\n",
    "W = (dist.pairwise(data) < 0.2).astype(int)\n",
    "plt.imshow(W)\n",
    "\n",
    "# Compute the laplacian\n",
    "D = np.diag(np.sum(W, axis=0))\n",
    "laplacian = D - W\n",
    "\n",
    "# Compute eigenvalues and eigenvectors\n",
    "evals, evects = np.linalg.eigh(laplacian)"
   ]
  },
  {
   "cell_type": "code",
   "execution_count": null,
   "metadata": {},
   "outputs": [],
   "source": [
    "# Plot eigenvalues\n",
    "plt.bar(np.arange(10), evals[0:10])\n",
    "plt.xticks(np.arange(0, 10), labels=np.arange(1, 10+1))\n",
    "plt.xlabel('Eigenvalues')\n",
    "plt.ylabel('Intensity')\n",
    "plt.savefig(f'../figures/eigenvals-on-comparison.eps')\n",
    "plt.show()"
   ]
  },
  {
   "cell_type": "code",
   "execution_count": null,
   "metadata": {},
   "outputs": [],
   "source": [
    "kmeans = KMeans(n_clusters=2)\n",
    "labels = kmeans.fit(evects[:,0:2]).labels_"
   ]
  },
  {
   "cell_type": "code",
   "execution_count": null,
   "metadata": {},
   "outputs": [],
   "source": [
    "cluster1 = data[labels == 0]\n",
    "cluster2 = data[labels == 1]\n",
    "\n",
    "plt.scatter(cluster1[:,0], cluster1[:,1])\n",
    "plt.scatter(cluster2[:,0], cluster2[:,1])\n",
    "plt.savefig(f'../figures/spectral-on-comparison.eps')\n",
    "plt.show()"
   ]
  }
 ],
 "metadata": {
  "kernelspec": {
   "display_name": "Python 3",
   "language": "python",
   "name": "python3"
  },
  "language_info": {
   "codemirror_mode": {
    "name": "ipython",
    "version": 3
   },
   "file_extension": ".py",
   "mimetype": "text/x-python",
   "name": "python",
   "nbconvert_exporter": "python",
   "pygments_lexer": "ipython3",
   "version": "3.7.6"
  }
 },
 "nbformat": 4,
 "nbformat_minor": 4
}

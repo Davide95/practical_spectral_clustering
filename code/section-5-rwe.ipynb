{
 "cells": [
  {
   "cell_type": "markdown",
   "metadata": {},
   "source": [
    "# # Appendix E - Avoid hyperparameters"
   ]
  },
  {
   "cell_type": "code",
   "execution_count": null,
   "metadata": {},
   "outputs": [],
   "source": [
    "import pandas as pd\n",
    "import networkx as nx\n",
    "import numpy as np\n",
    "import matplotlib.pyplot as plt\n",
    "from sklearn.cluster import SpectralClustering\n",
    "from sklearn.metrics import pairwise_distances\n",
    "from sklearn.cluster import KMeans\n",
    "from numba import jit, prange\n",
    "import plotly.graph_objects as go\n",
    "import plotly.express as px\n",
    "import plotly.io as pio\n",
    "\n",
    "pio.renderers.default = 'iframe'"
   ]
  },
  {
   "cell_type": "code",
   "execution_count": null,
   "metadata": {},
   "outputs": [],
   "source": [
    "data = pd.read_csv('Mall_Customers.csv', usecols=['Annual Income (k$)', 'Spending Score (1-100)', 'Age']).dropna()\n",
    "data = normalized_df=(data - data.mean()) / data.std()\n",
    "\n",
    "data.head()"
   ]
  },
  {
   "cell_type": "code",
   "execution_count": null,
   "metadata": {},
   "outputs": [],
   "source": [
    "fig = px.scatter_3d(data, x='Annual Income (k$)', y='Spending Score (1-100)', z='Age', opacity=1, size=0.1 * np.ones(len(data)))\n",
    "fig.show()"
   ]
  },
  {
   "cell_type": "code",
   "execution_count": null,
   "metadata": {},
   "outputs": [],
   "source": [
    "def find_communities(adj):\n",
    "    communities = np.zeros(adj.shape[0], dtype=np.int32)\n",
    "\n",
    "    label = 0\n",
    "    pool = set()\n",
    "    for idx, val in enumerate(communities):\n",
    "        if val == 0:\n",
    "            # Change the community\n",
    "            label += 1\n",
    "            communities[idx] = label\n",
    "        \n",
    "            # Neighbours are in the same community\n",
    "            neighbours = np.nonzero(adj[idx])[0]\n",
    "            \n",
    "            # Neighbours of neighbours are in the same community\n",
    "            pool |= set(neighbours)\n",
    "            while pool:\n",
    "                neigh_idx = pool.pop()\n",
    "                neigh_val = communities[neigh_idx]\n",
    "\n",
    "                # Don't look at previously used data\n",
    "                if neigh_val == 0:\n",
    "                    communities[neigh_idx] = label\n",
    "\n",
    "                    neighbours = np.nonzero(adj[neigh_idx])[0]\n",
    "                    pool |= set(neighbours)\n",
    "                    \n",
    "    return communities\n",
    "\n",
    "@jit(nopython=True, nogil=True, parallel=True, fastmath=True)\n",
    "def compute_modularity(adj, communities):    \n",
    "    n_edges_doubled = np.sum(adj)\n",
    "    k_all = np.sum(adj, axis=1)\n",
    "    \n",
    "    out = np.zeros((adj.shape[0], adj.shape[0]), np.float32)\n",
    "    for row_i_idx in prange(adj.shape[0]):\n",
    "        for row_j_idx in prange(row_i_idx+1):\n",
    "            # Compute it only for nodes of the same community\n",
    "            if communities[row_i_idx] == communities[row_j_idx]:\n",
    "                A_ij = adj[row_i_idx, row_j_idx]\n",
    "                P_ij = (k_all[row_i_idx] * k_all[row_j_idx]) / n_edges_doubled\n",
    "                \n",
    "                local_mod = A_ij - P_ij\n",
    "                out[row_i_idx][row_j_idx] = local_mod\n",
    "                out[row_j_idx][row_i_idx] = local_mod\n",
    "\n",
    "    out_sum = np.sum(out) / n_edges_doubled\n",
    "    return out_sum"
   ]
  },
  {
   "cell_type": "code",
   "execution_count": null,
   "metadata": {},
   "outputs": [],
   "source": [
    "distances = pairwise_distances(data)"
   ]
  },
  {
   "cell_type": "code",
   "execution_count": null,
   "metadata": {},
   "outputs": [],
   "source": [
    "modularities = []\n",
    "space = np.linspace(0.01, 0.99, 100)\n",
    "for threshold in space:\n",
    "    binarized = (distances < threshold).astype(np.int32)\n",
    "    \n",
    "    communities = find_communities(binarized)\n",
    "    modularity = compute_modularity(binarized, communities)\n",
    "    modularities.append(modularity)"
   ]
  },
  {
   "cell_type": "code",
   "execution_count": null,
   "metadata": {},
   "outputs": [],
   "source": [
    "fig = go.Figure(data=go.Scatter(x=space, y=modularities, mode='lines+markers'))\n",
    "fig.update_layout(xaxis_title='Threshold',\n",
    "                   yaxis_title='Modularity')"
   ]
  },
  {
   "cell_type": "code",
   "execution_count": null,
   "metadata": {},
   "outputs": [],
   "source": [
    "# Binarize network\n",
    "binarized = (distances < 0.41).astype(int)\n",
    "plt.imshow(binarized)\n",
    "plt.show()\n",
    "\n",
    "# Compute the laplacian\n",
    "D = np.diag(np.sum(binarized, axis=0))\n",
    "laplacian = D - binarized\n",
    "\n",
    "# Compute eigenvalues and eigenvectors\n",
    "evals, evects = np.linalg.eigh(laplacian)"
   ]
  },
  {
   "cell_type": "code",
   "execution_count": null,
   "metadata": {},
   "outputs": [],
   "source": [
    "# Plot eigenvalues\n",
    "plt.figure(figsize=(20,10))\n",
    "plt.bar(np.arange(60), evals[0:60])\n",
    "plt.xticks(np.arange(0, 60), labels=np.arange(1, 60+1))\n",
    "plt.xlabel('Eigenvalues')\n",
    "plt.ylabel('Intensity')\n",
    "plt.savefig('../figures/mall-eigens.eps')\n",
    "plt.show()"
   ]
  },
  {
   "cell_type": "code",
   "execution_count": null,
   "metadata": {},
   "outputs": [],
   "source": [
    "kmeans = KMeans(n_clusters=57)\n",
    "labeled_data = data.copy()\n",
    "labeled_data['labels'] = kmeans.fit(evects[:,0:57]).labels_"
   ]
  },
  {
   "cell_type": "code",
   "execution_count": null,
   "metadata": {},
   "outputs": [],
   "source": [
    "fig = px.scatter_3d(labeled_data, x='Annual Income (k$)', y='Spending Score (1-100)', z='Age',\n",
    "                    opacity=1, color='labels', size=0.1 * np.ones(len(data)))\n",
    "fig.show()"
   ]
  },
  {
   "cell_type": "code",
   "execution_count": null,
   "metadata": {},
   "outputs": [],
   "source": [
    "clustering = SpectralClustering(n_clusters=5, assign_labels='kmeans').fit(data)\n",
    "labeled_data = data.copy()\n",
    "labeled_data['labels'] = clustering.labels_"
   ]
  },
  {
   "cell_type": "code",
   "execution_count": null,
   "metadata": {},
   "outputs": [],
   "source": [
    "fig = px.scatter_3d(labeled_data, x='Annual Income (k$)', y='Spending Score (1-100)', z='Age',\n",
    "                    opacity=1, color='labels', size=0.1 * np.ones(len(data)))\n",
    "fig.show()"
   ]
  }
 ],
 "metadata": {
  "kernelspec": {
   "display_name": "Python 3",
   "language": "python",
   "name": "python3"
  },
  "language_info": {
   "codemirror_mode": {
    "name": "ipython",
    "version": 3
   },
   "file_extension": ".py",
   "mimetype": "text/x-python",
   "name": "python",
   "nbconvert_exporter": "python",
   "pygments_lexer": "ipython3",
   "version": "3.7.6"
  }
 },
 "nbformat": 4,
 "nbformat_minor": 4
}
